{
 "cells": [
  {
   "cell_type": "markdown",
   "id": "cd10993a-36e8-40c3-a782-e7ddc733fa00",
   "metadata": {},
   "source": [
    "<span style=\"font-size: 24px; font-weight: bold;\">QUESTION 3</span>"
   ]
  },
  {
   "cell_type": "markdown",
   "id": "c6f3c01e-72ac-4e6b-8ec4-e84ce87569aa",
   "metadata": {},
   "source": [
    "<span style=\"font-size: 14px; font-weight: bold;\">Q: 3(a)</span>"
   ]
  },
  {
   "cell_type": "markdown",
   "id": "a2909e3e-35a1-4e69-9e80-6eb0bff88ac2",
   "metadata": {},
   "source": [
    "VAEs use an encoder-decoder method to compress data into a simpler form (latent space) and then rebuild it, balancing accuracy and smoothness. DDPMs, on the other hand, add random noise to data step by step and then learn to remove it to recreate the original data. VAEs can quickly make new data, but the results may look a bit blurry. DDPMs create clearer, more detailed samples, but the process takes more time. In short, VAEs aim to learn a simpler, understandable version of data, while DDPMs focus on making realistic, high-quality results."
   ]
  },
  {
   "cell_type": "markdown",
   "id": "822f3da0-60df-4d5a-839e-bdb1d44abef3",
   "metadata": {},
   "source": [
    "<span style=\"font-size: 14px; font-weight: bold;\">Q: 3(b)</span>"
   ]
  },
  {
   "cell_type": "markdown",
   "id": "9bc08df2-2f35-47c8-ad01-834018bf49df",
   "metadata": {},
   "source": [
    "DDPMs generally produce higher-quality and more realistic samples than VAEs. The step-by-step denoising process of DDPMs helps capture fine details, leading to sharper and more natural-looking outputs. In contrast, VAEs may produce slightly blurry results due to their reliance on approximate reconstruction through a simple latent distribution.\n",
    "<br>\n",
    "Both models can generate diverse samples, but DDPMs often capture more complex data distributions effectively, resulting in better diversity. VAEs, while capable of generating varied samples, may struggle with \"mode collapse\"."
   ]
  },
  {
   "cell_type": "markdown",
   "id": "bfa011d8-c4df-4661-94e0-5de77c8b7957",
   "metadata": {},
   "source": [
    "<span style=\"font-size: 14px; font-weight: bold;\">Q: 3(c)</span>"
   ]
  },
  {
   "cell_type": "markdown",
   "id": "d9f45af8-fcb7-4608-8b08-df1f9ab8883e",
   "metadata": {},
   "source": [
    "DDPMs generally require much longer training times compared to VAEs. This is because DDPMs have to learn the entire forward and reverse diffusion processes, involving many steps of adding and removing noise. Training a DDPM typically involves running several thousand time steps, making it computationally intensive.\n",
    "<br>\n",
    "On the other hand, VAEs train faster because they use a simpler encoder-decoder architecture with a straightforward loss function combining reconstruction loss and KL divergence. The training process is typically more direct and efficient."
   ]
  }
 ],
 "metadata": {
  "kernelspec": {
   "display_name": "Python 3 (ipykernel)",
   "language": "python",
   "name": "python3"
  },
  "language_info": {
   "codemirror_mode": {
    "name": "ipython",
    "version": 3
   },
   "file_extension": ".py",
   "mimetype": "text/x-python",
   "name": "python",
   "nbconvert_exporter": "python",
   "pygments_lexer": "ipython3",
   "version": "3.10.12"
  }
 },
 "nbformat": 4,
 "nbformat_minor": 5
}
